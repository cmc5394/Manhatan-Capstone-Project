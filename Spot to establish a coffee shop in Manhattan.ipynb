{
    "cells": [
        {
            "cell_type": "markdown",
            "metadata": {},
            "source": "# In Manhattan, New York, if someone is looking to open a restaurant, where would you recommend that they open it?"
        },
        {
            "cell_type": "markdown",
            "metadata": {},
            "source": "## Introduction"
        },
        {
            "cell_type": "markdown",
            "metadata": {
                "collapsed": true
            },
            "source": "### Background and Problem"
        },
        {
            "cell_type": "markdown",
            "metadata": {},
            "source": "Manhattan is one of five boroughs of New York City and has the same boundaries as New York County. Most of the borough consists of Manhattan Island, which is bounded by the Hudson, East and Harlem Rivers, along with some land on the mainland and small islands.\n\nManhattan has an estimated population of 1.63 million people, all living in an area of just 23 square miles. This gives Manhattan a population density of 70,826 people per square mile, or 27,346 per square kilometer. Manhattan is the most densely populated of the five NYC boroughs and also the most densely populated county in the United States. It is more dense than any city in the country and one of the most densely populated areas on earth.\n\nOn weekdays, the number of commuters pushes the Manhattan population to more than 3.9 million, or 170,000 people per square mile.\n\nManhattan is the smallest borough in terms of land area and the third-largest in terms of population behind Brooklyn and Queens. Between 2000 and 2030, the population of Manhattan is expected to grow by 289,000 people. The school-age population is expected to increase, compared to an expected decline in New York City as a whole, by the elderly population is projected to grow by 58%.\n##### Manhattan Neighborhoods\nManhattan has some of the most affluent and well-known neighborhoods in the country. Neighborhoods include:\n1. Harlem, which has been a large African American community since the 1920s and was originally a Dutch village named Haarlem after a city in the Netherlands. The neighborhood still suffers from many problems and 35% to 47% of the population receive income support from the government.\n2. SoHo (SOuth of HOuston) is known for upscale shopping and art galleries.\n3. TriBeCa (TRIangle BElow CAnal Street) has many industrial buildings that have been converted to residential lofts and buildings with a population that is 82% white, 9% Hispanic and 5% African American.\n4. Midtown Manhattan is home to iconic buildings like the Chrysler Building and the Empire State Building and it ranks among the most commonly used pieces of real estate on earth. Most of the skyscrapers in NYC are in Midtown.\n5. Washington Heights has many immigrants from the Dominican Republic.\n6. Chelsea has a large gay population and is known for being a center for art and nightlife.\n7. Alphabet City includes Avenues A, B, C and D, hence the name. These are the only avenues in Manhattan with single-letter names. The area has a very long history and has been an enclave for the German, Polish, Hispanic and Jewish populations of Manhattan.\n8. Hell's Kitchen. Officially Clinton, the origin of the name Hell's Kitchen is out of folklore. Once defined for its poverty and ethnic strife, the area is now undergoing gentrification.\n9. Upper East Side is one of the most affluent neighborhoods in NYC. The Upper East Side is mostly non-Hispanic white and it has the greatest concentration of individual wealth in Manhattan.\n10. Upper West Side is also an affluent residential area, with many residents working in Lower Manhattan or Midtown in commercial areas. It is known for being a center for artistic workers and an intellectual hub.\n11. Greenwich Village, or the Village, is a residential neighborhood on the west side of Lower Manhattan. Long known for being an artists' haven, it has undergone gentrification and commercialization in recent decades.\n12. Little Italy was once known for its high number of Italian residents, but there are now few Italians left. Italian immigrants quickly gained the financial success to leave the area and it is now on the verge of extinction.\n13. Chinatown in Manhattan has the highest concentration of Chinese people in the Western hemisphere. <br>\nThis information was taken from: https://worldpopulationreview.com/boroughs/manhattan-population/\n<br>\n<br>\nDue to the density of population of Manhattan I decided to do an analysis to identify which neigborhoods would be ideal to establish a coffee shop. The idea is to find a crowdest neigborhood, with the least quantity of coffee shops, but it can have other type of restaurants arround. Actually it could be helpful to attract more clients. "
        },
        {
            "cell_type": "markdown",
            "metadata": {},
            "source": "### Methodology and Data"
        },
        {
            "cell_type": "markdown",
            "metadata": {},
            "source": "I will use the information of the density of every neigborhood that is in the following url: https://www.worldatlas.com/articles/manhattan-neighborhoods-by-population.html and will locate and analyze the neighborhoods and their different restaurants and coffee shops with Foursquare API."
        },
        {
            "cell_type": "markdown",
            "metadata": {},
            "source": ""
        },
        {
            "cell_type": "code",
            "execution_count": null,
            "metadata": {},
            "outputs": [],
            "source": ""
        }
    ],
    "metadata": {
        "kernelspec": {
            "display_name": "Python 3.6",
            "language": "python",
            "name": "python3"
        },
        "language_info": {
            "codemirror_mode": {
                "name": "ipython",
                "version": 3
            },
            "file_extension": ".py",
            "mimetype": "text/x-python",
            "name": "python",
            "nbconvert_exporter": "python",
            "pygments_lexer": "ipython3",
            "version": "3.6.9"
        }
    },
    "nbformat": 4,
    "nbformat_minor": 1
}